{
 "cells": [
  {
   "cell_type": "code",
   "execution_count": 1,
   "metadata": {},
   "outputs": [
    {
     "name": "stdout",
     "output_type": "stream",
     "text": [
      "TensorFlow Version: 2.6.2\n"
     ]
    }
   ],
   "source": [
    "# Importing necessary libraries\n",
    "import numpy as np\n",
    "import pandas as pd\n",
    "import seaborn as sns\n",
    "import tensorflow as tf\n",
    "import matplotlib.pyplot as plt\n",
    "\n",
    "\n",
    "import os\n",
    "from distutils.dir_util import copy_tree, remove_tree\n",
    "\n",
    "from PIL import Image\n",
    "from random import randint\n",
    "\n",
    "from imblearn.over_sampling import SMOTE\n",
    "from sklearn.model_selection import train_test_split\n",
    "from sklearn.metrics import accuracy_score, balanced_accuracy_score, precision_recall_fscore_support, confusion_matrix\n",
    "\n",
    "import tensorflow_addons as tfa\n",
    "from keras.utils.vis_utils import plot_model\n",
    "from tensorflow.keras import Sequential, Input\n",
    "from tensorflow.keras.layers import Dense, Dropout\n",
    "from tensorflow.keras.layers import Conv2D, Flatten\n",
    "from tensorflow.keras.layers import MaxPool2D\n",
    "from tensorflow.keras.callbacks import ReduceLROnPlateau\n",
    "from tensorflow.keras.applications.inception_v3 import InceptionV3\n",
    "from tensorflow.keras.preprocessing.image import ImageDataGenerator as IDG\n",
    "from tensorflow.keras.layers import SeparableConv2D, BatchNormalization, GlobalAveragePooling2D\n",
    "\n",
    "\n",
    "print(\"TensorFlow Version:\", tf.__version__)"
   ]
  },
  {
   "cell_type": "code",
   "execution_count": 2,
   "metadata": {},
   "outputs": [
    {
     "name": "stdout",
     "output_type": "stream",
     "text": [
      "Working Directory Contents: ['VeryMildDemented', 'ModerateDemented', 'NonDemented', 'MildDemented']\n"
     ]
    }
   ],
   "source": [
    "# Data Pre-Processing\n",
    "base_dir = \"/home/raj/Temp/Alzheimer-Detection-Using-Hybrid-Approach/Alzheimer_s Dataset/\"\n",
    "root_dir = \"./\"\n",
    "test_dir = base_dir + \"test/\"\n",
    "train_dir = base_dir + \"train/\"\n",
    "work_dir = root_dir + \"dataset/\"\n",
    "\n",
    "if os.path.exists(work_dir):\n",
    "    remove_tree(work_dir)\n",
    "\n",
    "os.mkdir(work_dir)\n",
    "copy_tree(train_dir, work_dir)\n",
    "copy_tree(test_dir, work_dir)\n",
    "print(\"Working Directory Contents:\", os.listdir(work_dir))\n",
    "WORK_DIR = './dataset/'\n",
    "\n",
    "CLASSES = ['NonDemented', 'VeryMildDemented', 'MildDemented', 'ModerateDemented']\n",
    "\n",
    "IMG_SIZE = 176\n",
    "IMAGE_SIZE = [176, 176]\n",
    "DIM = (IMG_SIZE, IMG_SIZE)"
   ]
  },
  {
   "cell_type": "code",
   "execution_count": 3,
   "metadata": {},
   "outputs": [
    {
     "name": "stdout",
     "output_type": "stream",
     "text": [
      "Found 6400 images belonging to 4 classes.\n"
     ]
    }
   ],
   "source": [
    "# Performing Image Augmentation to have more data samples\n",
    "ZOOM = [.99, 1.01]\n",
    "BRIGHT_RANGE = [0.8, 1.2]\n",
    "HORZ_FLIP = True\n",
    "FILL_MODE = \"constant\"\n",
    "DATA_FORMAT = \"channels_last\"\n",
    "\n",
    "work_dr = IDG(rescale=1./255, brightness_range=BRIGHT_RANGE, zoom_range=ZOOM, data_format=DATA_FORMAT, fill_mode=FILL_MODE, horizontal_flip=HORZ_FLIP)\n",
    "\n",
    "train_data_gen = work_dr.flow_from_directory(directory=WORK_DIR, target_size=DIM, batch_size=6500, shuffle=False)"
   ]
  },
  {
   "cell_type": "code",
   "execution_count": 4,
   "metadata": {},
   "outputs": [],
   "source": [
    "# Define custom CNN model\n",
    "def custom_cnn_model():\n",
    "    model = Sequential([\n",
    "        Input(shape=(*IMAGE_SIZE, 3)),\n",
    "        Conv2D(16, 3, activation='relu', padding='same'),\n",
    "        Conv2D(16, 3, activation='relu', padding='same'),\n",
    "        BatchNormalization(),\n",
    "        Dropout(0.2),\n",
    "        Conv2D(32, 3, activation='relu', padding='same'),\n",
    "        Conv2D(32, 3, activation='relu', padding='same'),\n",
    "        BatchNormalization(),\n",
    "        MaxPool2D(),\n",
    "        Dropout(0.2),\n",
    "        Conv2D(64, 3, activation='relu', padding='same'),\n",
    "        Conv2D(64, 3, activation='relu', padding='same'),\n",
    "        BatchNormalization(),\n",
    "        MaxPool2D(),\n",
    "        Dropout(0.2),\n",
    "        Flatten(),\n",
    "        Dense(512, activation='relu'),\n",
    "        Dropout(0.5),\n",
    "        Dense(128, activation='relu'),\n",
    "        Dropout(0.3),\n",
    "        Dense(4, activation='softmax')\n",
    "    ], name=\"custom_cnn_model\")\n",
    "    return model"
   ]
  },
  {
   "cell_type": "code",
   "execution_count": 5,
   "metadata": {},
   "outputs": [],
   "source": [
    "# Define InceptionV3 model\n",
    "def inception_model():\n",
    "    inception_base = InceptionV3(input_shape=(176, 176, 3), include_top=False, weights=\"imagenet\")\n",
    "    for layer in inception_base.layers:\n",
    "        layer.trainable = False\n",
    "\n",
    "    model = Sequential([\n",
    "        inception_base,\n",
    "        Dropout(0.5),\n",
    "        GlobalAveragePooling2D(),\n",
    "        Flatten(),\n",
    "        BatchNormalization(),\n",
    "        Dense(512, activation='relu'),\n",
    "        BatchNormalization(),\n",
    "        Dropout(0.5),\n",
    "        Dense(256, activation='relu'),\n",
    "        BatchNormalization(),\n",
    "        Dropout(0.5),\n",
    "        Dense(128, activation='relu'),\n",
    "        BatchNormalization(),\n",
    "        Dropout(0.5),\n",
    "        Dense(64, activation='relu'),\n",
    "        Dropout(0.5),\n",
    "        BatchNormalization(),\n",
    "        Dense(4, activation='softmax')\n",
    "    ], name=\"inception_model\")\n",
    "    return model"
   ]
  },
  {
   "cell_type": "code",
   "execution_count": 6,
   "metadata": {},
   "outputs": [
    {
     "name": "stdout",
     "output_type": "stream",
     "text": [
      "Epoch 1/10\n"
     ]
    },
    {
     "ename": "",
     "evalue": "",
     "output_type": "error",
     "traceback": [
      "\u001b[1;31mThe Kernel crashed while executing code in the the current cell or a previous cell. Please review the code in the cell(s) to identify a possible cause of the failure. Click <a href='https://aka.ms/vscodeJupyterKernelCrash'>here</a> for more info. View Jupyter <a href='command:jupyter.viewOutput'>log</a> for further details."
     ]
    }
   ],
   "source": [
    "# Train the custom CNN model\n",
    "custom_cnn = custom_cnn_model()\n",
    "custom_cnn.compile(optimizer='adam', loss='categorical_crossentropy', metrics=['accuracy'])\n",
    "custom_cnn_history = custom_cnn.fit(train_data_gen, epochs=10)"
   ]
  },
  {
   "cell_type": "code",
   "execution_count": null,
   "metadata": {},
   "outputs": [],
   "source": [
    "# Train the InceptionV3 model\n",
    "inception = inception_model()\n",
    "inception.compile(optimizer='adam', loss='categorical_crossentropy', metrics=['accuracy'])\n",
    "inception_history = inception.fit(train_data_gen, epochs=10)"
   ]
  },
  {
   "cell_type": "code",
   "execution_count": null,
   "metadata": {},
   "outputs": [],
   "source": [
    "# Evaluate both models\n",
    "test_data, test_labels = train_data_gen.next()\n",
    "custom_cnn_accuracy = custom_cnn.evaluate(test_data, test_labels)\n",
    "inception_accuracy = inception.evaluate(test_data, test_labels)\n",
    "\n",
    "print(\"Custom CNN Model Accuracy:\", custom_cnn_accuracy)\n",
    "print(\"InceptionV3 Model Accuracy:\", inception_accuracy)"
   ]
  },
  {
   "cell_type": "code",
   "execution_count": null,
   "metadata": {},
   "outputs": [],
   "source": [
    "# Combine predictions from both models\n",
    "custom_cnn_predictions = custom_cnn.predict(test_data)\n",
    "inception_predictions = inception.predict(test_data)\n",
    "combined_predictions = np.argmax(custom_cnn_predictions + inception_predictions, axis=1)"
   ]
  },
  {
   "cell_type": "code",
   "execution_count": null,
   "metadata": {},
   "outputs": [],
   "source": [
    "# Evaluate ensemble performance\n",
    "ensemble_accuracy = accuracy_score(np.argmax(test_labels, axis=1), combined_predictions)\n",
    "ensemble_balanced_accuracy = balanced_accuracy_score(np.argmax(test_labels, axis=1), combined_predictions)\n",
    "ensemble_precision, ensemble_recall, ensemble_f1_score, _ = precision_recall_fscore_support(np.argmax(test_labels, axis=1), combined_predictions, average='weighted')\n",
    "ensemble_confusion_matrix = confusion_matrix(np.argmax(test_labels, axis=1), combined_predictions)\n",
    "\n",
    "print(\"Ensemble Model Accuracy:\", ensemble_accuracy)\n",
    "print(\"Ensemble Model Balanced Accuracy:\", ensemble_balanced_accuracy)\n",
    "print(\"Ensemble Model Precision:\", ensemble_precision)\n",
    "print(\"Ensemble Model Recall:\", ensemble_recall)\n",
    "print(\"Ensemble Model F1-Score:\", ensemble_f1_score)\n",
    "print(\"Ensemble Model Confusion Matrix:\\n\", ensemble_confusion_matrix)"
   ]
  },
  {
   "cell_type": "code",
   "execution_count": null,
   "metadata": {},
   "outputs": [],
   "source": [
    "# Save the ensemble model\n",
    "ensemble_model_dir = \"ensemble_model.h5\"\n",
    "ensemble_model = (custom_cnn, inception)  # Saving both models for ensemble\n",
    "tf.keras.models.save_model(ensemble_model, ensemble_model_dir)\n",
    "print(\"Ensemble Model saved as:\", ensemble_model_dir)"
   ]
  }
 ],
 "metadata": {
  "kernelspec": {
   "display_name": "AML",
   "language": "python",
   "name": "python3"
  },
  "language_info": {
   "codemirror_mode": {
    "name": "ipython",
    "version": 3
   },
   "file_extension": ".py",
   "mimetype": "text/x-python",
   "name": "python",
   "nbconvert_exporter": "python",
   "pygments_lexer": "ipython3",
   "version": "3.6.13"
  }
 },
 "nbformat": 4,
 "nbformat_minor": 2
}
